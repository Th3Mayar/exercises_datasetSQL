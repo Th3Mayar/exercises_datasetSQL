{
  "nbformat": 4,
  "nbformat_minor": 0,
  "metadata": {
    "colab": {
      "provenance": [],
      "authorship_tag": "ABX9TyPiIt2g9JmqvbbSWVLq/heY",
      "include_colab_link": true
    },
    "kernelspec": {
      "name": "python3",
      "display_name": "Python 3"
    },
    "language_info": {
      "name": "python"
    }
  },
  "cells": [
    {
      "cell_type": "markdown",
      "metadata": {
        "id": "view-in-github",
        "colab_type": "text"
      },
      "source": [
        "<a href=\"https://colab.research.google.com/github/Th3Mayar/exercises_datasetSQL/blob/main/exercises_SQL.ipynb\" target=\"_parent\"><img src=\"https://colab.research.google.com/assets/colab-badge.svg\" alt=\"Open In Colab\"/></a>"
      ]
    },
    {
      "cell_type": "markdown",
      "source": [
        "#Dataset"
      ],
      "metadata": {
        "id": "3m2oy1_t_oHS"
      }
    },
    {
      "cell_type": "markdown",
      "source": [
        "Imports libraries"
      ],
      "metadata": {
        "id": "y12g4-5-_pUP"
      }
    },
    {
      "cell_type": "code",
      "execution_count": null,
      "metadata": {
        "id": "0jU5Tz1R7aQ8"
      },
      "outputs": [],
      "source": [
        "import sqlite3\n",
        "import pandas as pd"
      ]
    },
    {
      "cell_type": "markdown",
      "source": [
        "Connect to an in-memory SQLite database (temporary for this example)"
      ],
      "metadata": {
        "id": "54MRtUn2_yC3"
      }
    },
    {
      "cell_type": "code",
      "source": [
        "conn = sqlite3.connect(\":memory:\")"
      ],
      "metadata": {
        "id": "l46cVAQw_wro"
      },
      "execution_count": null,
      "outputs": []
    },
    {
      "cell_type": "markdown",
      "source": [
        "Load the cities dataset"
      ],
      "metadata": {
        "id": "nS4_DdT-_6QV"
      }
    },
    {
      "cell_type": "code",
      "source": [
        "url_cities = \"https://raw.githubusercontent.com/datasets/world-cities/master/data/world-cities.csv\"\n",
        "cities = pd.read_csv(url_cities)\n",
        "cities.to_sql('cities', conn, index=False, if_exists='replace')"
      ],
      "metadata": {
        "colab": {
          "base_uri": "https://localhost:8080/"
        },
        "id": "3zo7Zqqt_4SG",
        "outputId": "1fcff234-c6a0-4a31-efdd-f04b3fbed9ec"
      },
      "execution_count": null,
      "outputs": [
        {
          "output_type": "execute_result",
          "data": {
            "text/plain": [
              "28724"
            ]
          },
          "metadata": {},
          "execution_count": 3
        }
      ]
    },
    {
      "cell_type": "markdown",
      "source": [
        "Load an employee dataset"
      ],
      "metadata": {
        "id": "a2KiPYFmABV3"
      }
    },
    {
      "cell_type": "code",
      "source": [
        "url_employees = \"https://raw.githubusercontent.com/justmarkham/DAT8/master/data/u.user\"\n",
        "employees = pd.read_csv(url_employees, sep=\"|\")\n",
        "employees.to_sql('employees', conn, index=False, if_exists='replace')"
      ],
      "metadata": {
        "colab": {
          "base_uri": "https://localhost:8080/"
        },
        "id": "ynEgIQOTACKP",
        "outputId": "4be46182-6706-4b09-f18d-dea648faa2be"
      },
      "execution_count": null,
      "outputs": [
        {
          "output_type": "execute_result",
          "data": {
            "text/plain": [
              "943"
            ]
          },
          "metadata": {},
          "execution_count": 4
        }
      ]
    },
    {
      "cell_type": "markdown",
      "source": [
        "Country dataset (to relate to cities)"
      ],
      "metadata": {
        "id": "9yuy-krcAHMH"
      }
    },
    {
      "cell_type": "code",
      "source": [
        "# Dataset de países (para relacionarlo con cities)\n",
        "countries_data = {\n",
        "    'country': ['Andorra', 'United Arab Emirates', 'United States', 'Canada'],\n",
        "    'region': ['Europe', 'Middle East', 'North America', 'North America'],\n",
        "    'population_millions': [0.077, 9.77, 331, 37.59]\n",
        "}"
      ],
      "metadata": {
        "id": "ZCzOcHCGAIOJ"
      },
      "execution_count": null,
      "outputs": []
    },
    {
      "cell_type": "markdown",
      "source": [
        "Country dataset (to relate to cities)"
      ],
      "metadata": {
        "id": "8RP7iBxdAMjG"
      }
    },
    {
      "cell_type": "code",
      "source": [
        "countries = pd.DataFrame(countries_data)\n",
        "countries.to_sql('countries', conn, index=False, if_exists='replace')"
      ],
      "metadata": {
        "colab": {
          "base_uri": "https://localhost:8080/"
        },
        "id": "rL6RAslqAU8g",
        "outputId": "1f281267-b903-4b58-a34f-bef256ff9229"
      },
      "execution_count": null,
      "outputs": [
        {
          "output_type": "execute_result",
          "data": {
            "text/plain": [
              "4"
            ]
          },
          "metadata": {},
          "execution_count": 6
        }
      ]
    },
    {
      "cell_type": "markdown",
      "source": [
        "Department dataset (to relate to employees)"
      ],
      "metadata": {
        "id": "_g63CaTmAbtu"
      }
    },
    {
      "cell_type": "code",
      "source": [
        "departments_data = {\n",
        "    'occupation': ['technician', 'writer', 'other', 'manager'],\n",
        "    'department_name': ['Technical Support', 'Editorial', 'Miscellaneous', 'Management'],\n",
        "    'budget_millions': [5.5, 3.0, 2.5, 10.0]\n",
        "}\n",
        "\n",
        "departments = pd.DataFrame(departments_data)\n",
        "departments.to_sql('departments', conn, index=False, if_exists='replace')"
      ],
      "metadata": {
        "colab": {
          "base_uri": "https://localhost:8080/"
        },
        "id": "VmEybawWAXh3",
        "outputId": "250f08a4-9f49-4f04-8ab0-5803c4ff9e2e"
      },
      "execution_count": null,
      "outputs": [
        {
          "output_type": "execute_result",
          "data": {
            "text/plain": [
              "4"
            ]
          },
          "metadata": {},
          "execution_count": 7
        }
      ]
    },
    {
      "cell_type": "markdown",
      "source": [
        "Function to execute SQL queries and display the results in the notebook"
      ],
      "metadata": {
        "id": "IQLDz-_cAhDf"
      }
    },
    {
      "cell_type": "code",
      "source": [
        "def run_query(query):\n",
        "    return pd.read_sql_query(query, conn)"
      ],
      "metadata": {
        "id": "rXhUjcLjAejQ"
      },
      "execution_count": null,
      "outputs": []
    },
    {
      "cell_type": "markdown",
      "source": [
        "#Exercises (A)"
      ],
      "metadata": {
        "id": "T462MjmIA0h5"
      }
    },
    {
      "cell_type": "markdown",
      "source": [
        "##Count Cities by Country"
      ],
      "metadata": {
        "id": "YVe5fkCsA4en"
      }
    },
    {
      "cell_type": "code",
      "source": [
        "query_cities_count = \"\"\"\n",
        "SELECT country, COUNT(name) AS city_count\n",
        "FROM cities\n",
        "GROUP BY country\n",
        "HAVING city_count > 2;\n",
        "\"\"\"\n",
        "print(\"Number of cities per country (more than 2):\")\n",
        "print(run_query(query_cities_count))"
      ],
      "metadata": {
        "colab": {
          "base_uri": "https://localhost:8080/"
        },
        "id": "0E9UlNKiAvdp",
        "outputId": "1ac10746-c61f-4a5e-d86d-e5a43a731fa4"
      },
      "execution_count": null,
      "outputs": [
        {
          "output_type": "stream",
          "name": "stdout",
          "text": [
            "Number of cities per country (more than 2):\n",
            "            country  city_count\n",
            "0       Afghanistan          50\n",
            "1           Albania          22\n",
            "2           Algeria         292\n",
            "3            Angola          95\n",
            "4         Argentina         233\n",
            "..              ...         ...\n",
            "179        Viet Nam         118\n",
            "180  Western Sahara           3\n",
            "181           Yemen          23\n",
            "182          Zambia          30\n",
            "183        Zimbabwe          28\n",
            "\n",
            "[184 rows x 2 columns]\n"
          ]
        }
      ]
    },
    {
      "cell_type": "markdown",
      "source": [
        "##List of Employees and Departments"
      ],
      "metadata": {
        "id": "wn1b-OAOBKRn"
      }
    },
    {
      "cell_type": "code",
      "source": [
        "query_employees_departments = \"\"\"\n",
        "SELECT e.user_id, e.occupation, d.department_name\n",
        "FROM employees e\n",
        "LEFT JOIN departments d ON e.occupation = d.occupation;\n",
        "\"\"\"\n",
        "print(\"nList of employees with their department:\")\n",
        "print(run_query(query_employees_departments))"
      ],
      "metadata": {
        "colab": {
          "base_uri": "https://localhost:8080/"
        },
        "id": "ox6v_wPXBMhP",
        "outputId": "5f0b9e43-e23e-4fb9-ef0f-23e084cf0414"
      },
      "execution_count": null,
      "outputs": [
        {
          "output_type": "stream",
          "name": "stdout",
          "text": [
            "nList of employees with their department:\n",
            "     user_id     occupation    department_name\n",
            "0          1     technician  Technical Support\n",
            "1          2          other      Miscellaneous\n",
            "2          3         writer          Editorial\n",
            "3          4     technician  Technical Support\n",
            "4          5          other      Miscellaneous\n",
            "..       ...            ...                ...\n",
            "938      939        student               None\n",
            "939      940  administrator               None\n",
            "940      941        student               None\n",
            "941      942      librarian               None\n",
            "942      943        student               None\n",
            "\n",
            "[943 rows x 3 columns]\n"
          ]
        }
      ]
    },
    {
      "cell_type": "markdown",
      "source": [
        "##Average Age by Occupation"
      ],
      "metadata": {
        "id": "NgX1eDwlBQ8P"
      }
    },
    {
      "cell_type": "code",
      "source": [
        "query_average_age = \"\"\"\n",
        "SELECT occupation, AVG(age) AS average_age\n",
        "FROM employees\n",
        "GROUP BY occupation;\n",
        "\"\"\"\n",
        "print(\"nAverage age by occupation:\")\n",
        "print(run_query(query_average_age))"
      ],
      "metadata": {
        "colab": {
          "base_uri": "https://localhost:8080/"
        },
        "id": "pPpj_laCBVeo",
        "outputId": "e49acdc2-b9dc-43a3-9c5d-69f3d8bbe7e2"
      },
      "execution_count": null,
      "outputs": [
        {
          "output_type": "stream",
          "name": "stdout",
          "text": [
            "nAverage age by occupation:\n",
            "       occupation  average_age\n",
            "0   administrator    38.746835\n",
            "1          artist    31.392857\n",
            "2          doctor    43.571429\n",
            "3        educator    42.010526\n",
            "4        engineer    36.388060\n",
            "5   entertainment    29.222222\n",
            "6       executive    38.718750\n",
            "7      healthcare    41.562500\n",
            "8       homemaker    32.571429\n",
            "9          lawyer    36.750000\n",
            "10      librarian    40.000000\n",
            "11      marketing    37.615385\n",
            "12           none    26.555556\n",
            "13          other    34.523810\n",
            "14     programmer    33.121212\n",
            "15        retired    63.071429\n",
            "16       salesman    35.666667\n",
            "17      scientist    35.548387\n",
            "18        student    22.081633\n",
            "19     technician    33.148148\n",
            "20         writer    36.311111\n"
          ]
        }
      ]
    },
    {
      "cell_type": "markdown",
      "source": [
        "##Cities and Region"
      ],
      "metadata": {
        "id": "QQDG-no8BbER"
      }
    },
    {
      "cell_type": "code",
      "source": [
        "query_cities_regions = \"\"\"\n",
        "SELECT c.name, co.region\n",
        "FROM cities c\n",
        "JOIN countries co ON c.country = co.country;\n",
        "\"\"\"\n",
        "print(\"nCities and their region:\")\n",
        "print(run_query(query_cities_regions))"
      ],
      "metadata": {
        "colab": {
          "base_uri": "https://localhost:8080/"
        },
        "id": "q2Bl7kB1BdeQ",
        "outputId": "3e5a65fe-2814-46fe-adb3-3e82eb8c7bba"
      },
      "execution_count": null,
      "outputs": [
        {
          "output_type": "stream",
          "name": "stdout",
          "text": [
            "nCities and their region:\n",
            "                                       name         region\n",
            "0                              les Escaldes         Europe\n",
            "1                          Andorra la Vella         Europe\n",
            "2                                   Warīsān    Middle East\n",
            "3                                Umm Suqaym    Middle East\n",
            "4                        Umm Al Quwain City    Middle East\n",
            "...                                     ...            ...\n",
            "3704                          Tustin Legacy  North America\n",
            "3705  Aliamanu / Salt Lake / Foster Village  North America\n",
            "3706        Mililani Mauka / Launani Valley  North America\n",
            "3707                              Koolauloa  North America\n",
            "3708      Makakilo / Kapolei / Honokai Hale  North America\n",
            "\n",
            "[3709 rows x 2 columns]\n"
          ]
        }
      ]
    },
    {
      "cell_type": "markdown",
      "source": [
        "#Exercises (B)"
      ],
      "metadata": {
        "id": "6oVdVhMRBrzU"
      }
    },
    {
      "cell_type": "markdown",
      "source": [
        "##Calculate the Number of Cities per Region with CTE"
      ],
      "metadata": {
        "id": "7WDOfxOgByUQ"
      }
    },
    {
      "cell_type": "code",
      "source": [
        "query_cities_region_cte = \"\"\"\n",
        "WITH RegionCities AS (\n",
        "    SELECT co.region, COUNT(c.name) AS city_count\n",
        "    FROM countries co\n",
        "    JOIN cities c ON co.country = c.country\n",
        "    GROUP BY co.region\n",
        ")\n",
        "SELECT region, city_count\n",
        "FROM RegionCities\n",
        "WHERE city_count > 3;\n",
        "\"\"\"\n",
        "print(\"nNumber of cities per region (more than 3):\")\n",
        "print(run_query(query_cities_region_cte))"
      ],
      "metadata": {
        "colab": {
          "base_uri": "https://localhost:8080/"
        },
        "id": "AXVTpQyZB06X",
        "outputId": "694d5db5-74c3-46df-b68a-f6b924dcd1f5"
      },
      "execution_count": null,
      "outputs": [
        {
          "output_type": "stream",
          "name": "stdout",
          "text": [
            "nNumber of cities per region (more than 3):\n",
            "          region  city_count\n",
            "0    Middle East          63\n",
            "1  North America        3644\n"
          ]
        }
      ]
    },
    {
      "cell_type": "markdown",
      "source": [
        "##Employee Age Ranking by Occupation with Window Functions"
      ],
      "metadata": {
        "id": "MmmLrY1IB5sI"
      }
    },
    {
      "cell_type": "code",
      "source": [
        "query_employee_ranking = \"\"\"\n",
        "SELECT user_id, occupation, age,\n",
        "       RANK() OVER (PARTITION BY occupation ORDER BY age DESC) AS age_rank\n",
        "FROM employees\n",
        "WHERE age IS NOT NULL\n",
        "ORDER BY occupation, age_rank;\n",
        "\"\"\"\n",
        "print(\"nRanking of employees by age within their occupation:\")\n",
        "print(run_query(query_employee_ranking))"
      ],
      "metadata": {
        "colab": {
          "base_uri": "https://localhost:8080/"
        },
        "id": "SSSxsayGCGHo",
        "outputId": "a6d53201-b84e-42ba-e5e8-4a8834c824d8"
      },
      "execution_count": null,
      "outputs": [
        {
          "output_type": "stream",
          "name": "stdout",
          "text": [
            "nRanking of employees by age within their occupation:\n",
            "     user_id     occupation  age  age_rank\n",
            "0        803  administrator   70         1\n",
            "1        266  administrator   62         2\n",
            "2        131  administrator   59         3\n",
            "3        819  administrator   59         3\n",
            "4          7  administrator   57         5\n",
            "..       ...            ...  ...       ...\n",
            "938      801         writer   22        41\n",
            "939       50         writer   21        42\n",
            "940      445         writer   21        42\n",
            "941      507         writer   18        44\n",
            "942      620         writer   18        44\n",
            "\n",
            "[943 rows x 4 columns]\n"
          ]
        }
      ]
    },
    {
      "cell_type": "markdown",
      "source": [
        "##Comparison of Cities and Population by Region"
      ],
      "metadata": {
        "id": "v_ckp_R4CI_Q"
      }
    },
    {
      "cell_type": "code",
      "source": [
        "query_cities_population = \"\"\"\n",
        "SELECT co.region, COUNT(c.name) AS city_count, SUM(co.population_millions) AS total_population\n",
        "FROM countries co\n",
        "JOIN cities c ON co.country = c.country\n",
        "GROUP BY co.region\n",
        "HAVING city_count > 3 AND total_population > 50;\n",
        "\"\"\"\n",
        "print(\"nRegions with more than 3 cities and a total population greater than 50 million:\")\n",
        "print(run_query(query_cities_population))"
      ],
      "metadata": {
        "colab": {
          "base_uri": "https://localhost:8080/"
        },
        "id": "oGsX_cY2CK1O",
        "outputId": "39d2577e-32e5-442c-cef5-d1ff0fe264cf"
      },
      "execution_count": null,
      "outputs": [
        {
          "output_type": "stream",
          "name": "stdout",
          "text": [
            "nRegions with more than 3 cities and a total population greater than 50 million:\n",
            "          region  city_count  total_population\n",
            "0    Middle East          63            615.51\n",
            "1  North America        3644        1107578.24\n"
          ]
        }
      ]
    },
    {
      "cell_type": "markdown",
      "source": [
        "##Employees Older than the Overall Average in Your Department"
      ],
      "metadata": {
        "id": "Hp0IZxtxCN4f"
      }
    },
    {
      "cell_type": "code",
      "source": [
        "query_employees_above_average_age = \"\"\"\n",
        "SELECT user_id, occupation, age\n",
        "FROM employees e1\n",
        "WHERE age > (SELECT AVG(age) FROM employees e2 WHERE e1.occupation = e2.occupation);\n",
        "\"\"\"\n",
        "print(\"nEmployees older than average in their occupation:\")\n",
        "print(run_query(query_employees_above_average_age))"
      ],
      "metadata": {
        "colab": {
          "base_uri": "https://localhost:8080/"
        },
        "id": "ncWESpOPCPvZ",
        "outputId": "9ec1f7a1-ad1c-42e0-b959-a036c34112f1"
      },
      "execution_count": null,
      "outputs": [
        {
          "output_type": "stream",
          "name": "stdout",
          "text": [
            "nEmployees older than average in their occupation:\n",
            "     user_id     occupation  age\n",
            "0          2          other   53\n",
            "1          6      executive   42\n",
            "2          7  administrator   57\n",
            "3          9        student   29\n",
            "4         10         lawyer   53\n",
            "..       ...            ...  ...\n",
            "403      934       engineer   61\n",
            "404      937       educator   48\n",
            "405      938     technician   38\n",
            "406      939        student   26\n",
            "407      942      librarian   48\n",
            "\n",
            "[408 rows x 3 columns]\n"
          ]
        }
      ]
    },
    {
      "cell_type": "markdown",
      "source": [
        "#Exercises (C)"
      ],
      "metadata": {
        "id": "cb2IdzptCSpP"
      }
    },
    {
      "cell_type": "markdown",
      "source": [
        "##Find the Countries with the Highest Number of Cities and their Region"
      ],
      "metadata": {
        "id": "ruHzIAaDCZen"
      }
    },
    {
      "cell_type": "code",
      "source": [
        "query_countries_most_cities = \"\"\"\n",
        "WITH CountryCityCount AS (\n",
        "    SELECT co.country, co.region, COUNT(c.name) AS city_count\n",
        "    FROM countries co\n",
        "    JOIN cities c ON co.country = c.country\n",
        "    GROUP BY co.country, co.region\n",
        "),\n",
        "RankedCountries AS (\n",
        "    SELECT country, region, city_count,\n",
        "           RANK() OVER (PARTITION BY region ORDER BY city_count DESC) AS city_rank\n",
        "    FROM CountryCityCount\n",
        ")\n",
        "SELECT country, region, city_count\n",
        "FROM RankedCountries\n",
        "WHERE city_rank = 1;\n",
        "\"\"\"\n",
        "print(\"nCountries with the highest number of cities per region:\")\n",
        "print(run_query(query_countries_most_cities))"
      ],
      "metadata": {
        "colab": {
          "base_uri": "https://localhost:8080/"
        },
        "id": "WZ71HKapCbmH",
        "outputId": "1ac671d5-e4f9-44a4-d0db-6f231ee9af8d"
      },
      "execution_count": null,
      "outputs": [
        {
          "output_type": "stream",
          "name": "stdout",
          "text": [
            "nCountries with the highest number of cities per region:\n",
            "                country         region  city_count\n",
            "0               Andorra         Europe           2\n",
            "1  United Arab Emirates    Middle East          63\n",
            "2         United States  North America        3308\n"
          ]
        }
      ]
    },
    {
      "cell_type": "markdown",
      "source": [
        "##Comparison of Budgets and Number of Employees by Department"
      ],
      "metadata": {
        "id": "vbl7Q5IvCedO"
      }
    },
    {
      "cell_type": "code",
      "source": [
        "query_budget_employee_comparison = \"\"\"\n",
        "SELECT d.department_name,\n",
        "       COUNT(e.user_id) AS num_employees,\n",
        "       d.budget_millions,\n",
        "       (d.budget_millions / COUNT(e.user_id)) AS budget_per_employee\n",
        "FROM departments d\n",
        "LEFT JOIN employees e ON d.occupation = e.occupation\n",
        "GROUP BY d.department_name\n",
        "HAVING budget_per_employee < 0.1;\n",
        "\"\"\"\n",
        "print(\"nDepartments where the budget per employee is less than 0.1 million:\")\n",
        "print(run_query(query_budget_employee_comparison))"
      ],
      "metadata": {
        "colab": {
          "base_uri": "https://localhost:8080/"
        },
        "id": "UTYPulJQCgDm",
        "outputId": "6af78410-48af-4ab6-effa-d2589bf9cf88"
      },
      "execution_count": null,
      "outputs": [
        {
          "output_type": "stream",
          "name": "stdout",
          "text": [
            "nDepartments where the budget per employee is less than 0.1 million:\n",
            "  department_name  num_employees  budget_millions  budget_per_employee\n",
            "0       Editorial             45              3.0             0.066667\n",
            "1   Miscellaneous            105              2.5             0.023810\n"
          ]
        }
      ]
    }
  ]
}